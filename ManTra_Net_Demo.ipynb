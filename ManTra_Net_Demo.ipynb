{
	"nbformat": 4,
	"nbformat_minor": 0,
	"metadata": {
		"colab": {
			"private_outputs": true,
			"provenance": [],
			"toc_visible": true
		},
		"kernelspec": {
			"name": "python3",
			"display_name": "Python 3"
		}
	},
	"cells": [
		{
			"cell_type": "markdown",
			"metadata": {
				"id": "mGN6cggOfBYk"
			},
			"source": [
				"# ManTra-Net: Manipulation Tracing Network For Detection and Localization of Image Forgeries With Anomalous Features\n",
				"\n",
				"## This is a simple demonstrative notebook for the pretrained ManTra-Net\n",
				"\n",
				"## Note:\n",
				"\n",
				"- Please make sure you run this notebook with the GPU support. You may see tensorflow errors when decoding images of very large sizes, e.g. 2048x3072.\n",
				"- All lib/data paths used in this notebook is relative. In case you run this notebook outside of its original location, please fix the data paths."
			]
		},
		{
			"cell_type": "code",
			"metadata": {
				"id": "M8hujyuFTvqM"
			},
			"source": [
				"%%bash\n",
				"\n",
				"MINICONDA_INSTALLER_SCRIPT=Miniconda3-4.5.4-Linux-x86_64.sh\n",
				"MINICONDA_PREFIX=/usr/local\n",
				"wget https://repo.continuum.io/miniconda/$MINICONDA_INSTALLER_SCRIPT\n",
				"chmod +x $MINICONDA_INSTALLER_SCRIPT\n",
				"./$MINICONDA_INSTALLER_SCRIPT -b -f -p $MINICONDA_PREFIX"
			],
			"execution_count": null,
			"outputs": []
		},
		{
			"cell_type": "code",
			"metadata": {
				"id": "IUt0gHKgT733"
			},
			"source": [
				"%%bash\n",
				"\n",
				"conda install --channel defaults conda python=3.6 numpy scipy --yes\n",
				"conda update --channel defaults --all --yes"
			],
			"execution_count": null,
			"outputs": []
		},
		{
			"cell_type": "markdown",
			"metadata": {
				"id": "K9-E1qT5fTyn"
			},
			"source": ["# 1. Download the ManTraNet Repo"]
		},
		{
			"cell_type": "code",
			"metadata": {
				"id": "1uptzMttanxo"
			},
			"source": ["!pip install tensorflow-gpu==1.14"],
			"execution_count": null,
			"outputs": []
		},
		{
			"cell_type": "code",
			"metadata": {
				"id": "hmvY3irIe3gr"
			},
			"source": [
				"!rm -rf ManTraNet\n",
				"!git clone https://github.com/ISICV/ManTraNet.git\n"
			],
			"execution_count": null,
			"outputs": []
		},
		{
			"cell_type": "code",
			"metadata": {
				"id": "gYoQ2SU9XANs"
			},
			"source": ["!pip install numpy==1.17 \n", "!pip install scipy==0.19"],
			"execution_count": null,
			"outputs": []
		},
		{
			"cell_type": "code",
			"metadata": {
				"id": "vaTl6jYMB0fW"
			},
			"source": ["pip install keras==2.2.4"],
			"execution_count": null,
			"outputs": []
		},
		{
			"cell_type": "code",
			"metadata": {
				"id": "OF4mGsxJVfVv"
			},
			"source": ["!python --version"],
			"execution_count": null,
			"outputs": []
		},
		{
			"cell_type": "code",
			"metadata": {
				"id": "B6YIsYq3XKWw"
			},
			"source": ["#rm -rf /usr/local/lib/python3.7"],
			"execution_count": null,
			"outputs": []
		},
		{
			"cell_type": "markdown",
			"metadata": {
				"id": "yBcO3gXkfexO"
			},
			"source": ["# 2. Import Dependent Libs and Set Paths"]
		},
		{
			"cell_type": "code",
			"metadata": {
				"id": "XkSm0E62Z9E5"
			},
			"source": [
				"import sys\n",
				"_ = (sys.path\n",
				"        .insert(0, \"/usr/local/lib/python3.6/site-packages\"))\n",
				"import os\n",
				"import numpy as np \n",
				"import cv2\n",
				"import requests\n",
				"import sys\n",
				"\n",
				"from PIL import Image\n",
				"from io import BytesIO\n",
				"from matplotlib import pyplot\n"
			],
			"execution_count": null,
			"outputs": []
		},
		{
			"cell_type": "code",
			"metadata": {
				"id": "-Bw17eVxqxlq"
			},
			"source": ["import tensorflow as tf\n", "print(tf.__version__)"],
			"execution_count": null,
			"outputs": []
		},
		{
			"cell_type": "code",
			"metadata": {
				"id": "fLLbde5IfvOn"
			},
			"source": [
				"manTraNet_root = './ManTraNet/'\n",
				"manTraNet_srcDir = os.path.join( manTraNet_root, 'src' )\n",
				"sys.path.insert( 0, manTraNet_srcDir )\n",
				"manTraNet_modelDir = os.path.join( manTraNet_root, 'pretrained_weights' )"
			],
			"execution_count": null,
			"outputs": []
		},
		{
			"cell_type": "markdown",
			"metadata": {
				"id": "F_68Ehftf-Yo"
			},
			"source": ["# 3. Load Sample Data "]
		},
		{
			"cell_type": "code",
			"metadata": {
				"id": "OfG_uW5FgKlw"
			},
			"source": [
				"manTraNet_dataDir = os.path.join( manTraNet_root, 'data' )\n",
				"sample_file = os.path.join( manTraNet_dataDir, 'samplePairs.csv' )\n",
				"assert os.path.isfile( sample_file ), \"ERROR: can NOT find sample data, check `manTraNet_root`\"\n",
				"with open( sample_file ) as IN :\n",
				"    sample_pairs = [line.strip().split(',') for line in IN.readlines() ]\n",
				"L = len(sample_pairs)\n",
				"print(\"INFO: in total, load\", L, \"samples\")\n",
				"    \n",
				"def get_a_random_pair() :\n",
				"    idx = np.random.randint(0,L)\n",
				"    return ( os.path.join( manTraNet_dataDir, this ) for this in sample_pairs[idx] ) "
			],
			"execution_count": null,
			"outputs": []
		},
		{
			"cell_type": "code",
			"metadata": {
				"id": "uFhejcTfccLr"
			},
			"source": ["import numpy as np \n", "\n", "np.__version__"],
			"execution_count": null,
			"outputs": []
		},
		{
			"cell_type": "code",
			"metadata": {
				"id": "TGeKfj5dZ44p"
			},
			"source": [
				"import scipy\n",
				"print(scipy.__version__)\n",
				"print(scipy.__file__)"
			],
			"execution_count": null,
			"outputs": []
		},
		{
			"cell_type": "code",
			"metadata": {
				"id": "_hhtKvV7ZiY2"
			},
			"source": ["pip install scipy"],
			"execution_count": null,
			"outputs": []
		},
		{
			"cell_type": "code",
			"metadata": {
				"id": "sdUBlVZbZn3h"
			},
			"source": [],
			"execution_count": null,
			"outputs": []
		},
		{
			"cell_type": "markdown",
			"metadata": {
				"id": "q71lTGuugVoy"
			},
			"source": ["# 4. Load A Pretrained ManTraNet Model"]
		},
		{
			"cell_type": "code",
			"metadata": {
				"id": "iFVAQIBmgdr3"
			},
			"source": [
				"import modelCore\n",
				"manTraNet = modelCore.load_pretrain_model_by_index( 4, manTraNet_modelDir )"
			],
			"execution_count": null,
			"outputs": []
		},
		{
			"cell_type": "code",
			"metadata": {
				"id": "HAu-EWn2i3XU"
			},
			"source": [
				"# ManTraNet Architecture \n",
				"print(manTraNet.summary(line_length=120))"
			],
			"execution_count": null,
			"outputs": []
		},
		{
			"cell_type": "code",
			"metadata": {
				"id": "RTh6Bp0_brtM"
			},
			"source": ["manTraNet.layers[1].summary()"],
			"execution_count": null,
			"outputs": []
		},
		{
			"cell_type": "code",
			"metadata": {
				"id": "Gz9AfjZljJN8"
			},
			"source": [
				"# Image Manipulation Classification Network\n",
				"IMCFeatex = manTraNet.get_layer('Featex')\n",
				"print(IMCFeatex.summary(line_length=120))"
			],
			"execution_count": null,
			"outputs": []
		},
		{
			"cell_type": "markdown",
			"metadata": {
				"id": "8Q9xXMAgjvvM"
			},
			"source": [
				"# 5. Play With The Provided Sample Data\n",
				"\n",
				"## Note: we don't need original image files for forgery detection. They are included here to demonstrate the effectiveness of the ManTra-Net.\n"
			]
		},
		{
			"cell_type": "code",
			"metadata": {
				"id": "WNRCJeZjjvHm"
			},
			"source": [
				"from datetime import datetime \n",
				"def read_rgb_image( image_file ) :\n",
				"    rgb = cv2.imread( image_file, 1 )[...,::-1]\n",
				"    return rgb\n",
				"    \n",
				"def decode_an_image_array( rgb, manTraNet, dn=1 ) :\n",
				"    x = np.expand_dims( rgb.astype('float32')/255.*2-1, axis=0 )[:,::dn,::dn]\n",
				"    t0 = datetime.now()\n",
				"    y = manTraNet.predict(x)[0,...,0]\n",
				"    t1 = datetime.now()\n",
				"    return y, t1-t0\n",
				"\n",
				"def decode_an_image_file( image_file, manTraNet, dn=1 ) :\n",
				"    rgb = read_rgb_image( image_file )\n",
				"    mask, ptime = decode_an_image_array( rgb, manTraNet, dn )\n",
				"    return rgb[::dn,::dn], mask, ptime.total_seconds()"
			],
			"execution_count": null,
			"outputs": []
		},
		{
			"cell_type": "code",
			"metadata": {
				"id": "HOoRRthWkG21"
			},
			"source": [
				"for k in range(8) :\n",
				"    # get a sample\n",
				"    forged_file, original_file = get_a_random_pair()\n",
				"    # load the original image just for reference\n",
				"    ori = read_rgb_image( original_file )\n",
				"    # manipulation detection using ManTraNet\n",
				"    rgb, mask, ptime = decode_an_image_file( forged_file, manTraNet ) \n",
				"    # show results\n",
				"    pyplot.figure( figsize=(15,5) )\n",
				"    pyplot.subplot(131)\n",
				"    pyplot.imshow( ori )\n",
				"    pyplot.title('Original Image')\n",
				"    pyplot.subplot(132)\n",
				"    pyplot.imshow( rgb )\n",
				"    pyplot.title('Forged Image (ManTra-Net Input)')\n",
				"    pyplot.subplot(133)\n",
				"    pyplot.imshow( mask, cmap='gray' )\n",
				"    pyplot.title('Predicted Mask (ManTra-Net Output)')\n",
				"    pyplot.suptitle('Decoded {} of size {} for {:.2f} seconds'.format( os.path.basename( forged_file ), rgb.shape, ptime ) )\n",
				"    pyplot.show()"
			],
			"execution_count": null,
			"outputs": []
		},
		{
			"cell_type": "markdown",
			"metadata": {
				"id": "B7ZmPCrCkp1H"
			},
			"source": [
				"# 6. Play with Internet Data\n",
				"\n",
				"### Note: Internet images are often compressed and/or resized, and this means subtle manipulations will be much more difficult to detect after such postprocessing. \n",
				"\n",
				"### Therefore, don't be surprised if you see ManTraNet fails on some sample. \n"
			]
		},
		{
			"cell_type": "code",
			"metadata": {
				"id": "2bN1n4LLau-M"
			},
			"source": [
				"def get_image_from_url(url, xrange=None, yrange=None, dn=1) :\n",
				"    response = requests.get(url)\n",
				"    img = Image.open(BytesIO(response.content))\n",
				"    img = np.array(img)\n",
				"    if img.shape[-1] > 3 :\n",
				"        img = img[...,:3]\n",
				"    ori = np.array(img)\n",
				"    if xrange is not None :\n",
				"        img = img[:,xrange[0]:xrange[1]]\n",
				"    if yrange is not None :\n",
				"        img = img[yrange[0]:yrange[1]]\n",
				"    mask, ptime =  decode_an_image_array( img, manTraNet, dn )\n",
				"    ptime = ptime.total_seconds()\n",
				"    # show results\n",
				"    pyplot.figure( figsize=(15,5) )\n",
				"    pyplot.title('Original Image')\n",
				"    pyplot.subplot(131)\n",
				"    pyplot.imshow( img )\n",
				"    pyplot.title('Forged Image (ManTra-Net Input)')\n",
				"    pyplot.subplot(132)\n",
				"    pyplot.imshow( mask, cmap='gray' )\n",
				"    pyplot.title('Predicted Mask (ManTra-Net Output)')\n",
				"    pyplot.subplot(133)\n",
				"    pyplot.imshow( np.round(np.expand_dims(mask,axis=-1) * img[::dn,::dn]).astype('uint8'), cmap='jet' )\n",
				"    pyplot.title('Highlighted Forged Regions')\n",
				"    pyplot.suptitle('Decoded {} of size {} for {:.2f} seconds'.format( url, rgb.shape, ptime ) )\n",
				"    pyplot.show()\n",
				"    "
			],
			"execution_count": null,
			"outputs": []
		},
		{
			"cell_type": "code",
			"metadata": {
				"id": "KVATuDNXaETU"
			},
			"source": ["ls"],
			"execution_count": null,
			"outputs": []
		},
		{
			"cell_type": "code",
			"metadata": {
				"id": "eBu-fqajvmxi"
			},
			"source": [
				"img = cv2.cvtColor(cv2.imread('71I6JAJA7rL..jpg'), cv2.COLOR_BGR2RGB)\n",
				"dn = 1\n",
				"if img.shape[-1] > 3 :\n",
				"    img = img[...,:3]\n",
				"ori = np.array(img)\n",
				"mask, ptime =  decode_an_image_array( img, manTraNet, dn )\n",
				"ptime = ptime.total_seconds()\n",
				"# show results\n",
				"pyplot.figure( figsize=(15,5) )\n",
				"pyplot.title('Original Image')\n",
				"pyplot.subplot(131)\n",
				"pyplot.imshow( img )\n",
				"pyplot.title('Forged Image (ManTra-Net Input)')\n",
				"pyplot.subplot(132)\n",
				"pyplot.imshow( mask, cmap='gray' )\n",
				"pyplot.title('Predicted Mask (ManTra-Net Output)')\n",
				"pyplot.subplot(133)\n",
				"pyplot.imshow( np.round(np.expand_dims(mask,axis=-1) * img[::dn,::dn]).astype('uint8'), cmap='jet' )\n",
				"pyplot.title('Highlighted Forged Regions')\n",
				"pyplot.suptitle('Decoded {} of size {} for {:.2f} seconds'.format( url, rgb.shape, ptime ) )\n",
				"pyplot.show()"
			],
			"execution_count": null,
			"outputs": []
		},
		{
			"cell_type": "code",
			"metadata": {
				"id": "GznGCU9vqubG"
			},
			"source": [
				"img = cv2.cvtColor(cv2.imread('61j5jxk4mVL..jpg'), cv2.COLOR_BGR2RGB)\n",
				"dn = 1\n",
				"if img.shape[-1] > 3 :\n",
				"    img = img[...,:3]\n",
				"\n",
				"ori = np.array(img)\n",
				"mask, ptime =  decode_an_image_array( img, manTraNet, dn )\n",
				"ptime = ptime.total_seconds()\n",
				"# show results\n",
				"pyplot.figure( figsize=(15,5) )\n",
				"pyplot.title('Original Image')\n",
				"pyplot.subplot(131)\n",
				"pyplot.imshow( img )\n",
				"pyplot.title('Forged Image (ManTra-Net Input)')\n",
				"pyplot.subplot(132)\n",
				"pyplot.imshow( mask, cmap='gray' )\n",
				"pyplot.title('Predicted Mask (ManTra-Net Output)')\n",
				"pyplot.subplot(133)\n",
				"pyplot.imshow( np.round(np.expand_dims(mask,axis=-1) * img[::dn,::dn]).astype('uint8'), cmap='jet' )\n",
				"pyplot.title('Highlighted Forged Regions')\n",
				"pyplot.suptitle('Decoded {} of size {} for {:.2f} seconds'.format( url, rgb.shape, ptime ) )\n",
				"pyplot.show()"
			],
			"execution_count": null,
			"outputs": []
		},
		{
			"cell_type": "code",
			"metadata": {
				"id": "VKOKkfeHeKx2"
			},
			"source": [
				"img = cv2.cvtColor(cv2.imread('61j5jxk4mVL..jpg'), cv2.COLOR_BGR2RGB)\n",
				"dn = 1\n",
				"if img.shape[-1] > 3 :\n",
				"    img = img[...,:3]\n",
				"xrange = [150, 550]\n",
				"yrange = [200, 550]\n",
				"if xrange is not None :\n",
				"    img = img[:,xrange[0]:xrange[1]]\n",
				"if yrange is not None :\n",
				"    img = img[yrange[0]:yrange[1]]\n",
				"ori = np.array(img)\n",
				"mask, ptime =  decode_an_image_array( img, manTraNet, dn )\n",
				"ptime = ptime.total_seconds()\n",
				"# show results\n",
				"pyplot.figure( figsize=(15,5) )\n",
				"pyplot.title('Original Image')\n",
				"pyplot.subplot(131)\n",
				"pyplot.imshow( img )\n",
				"pyplot.title('Forged Image (ManTra-Net Input)')\n",
				"pyplot.subplot(132)\n",
				"pyplot.imshow( mask, cmap='hsv' )\n",
				"pyplot.title('Predicted Mask (ManTra-Net Output)')\n",
				"pyplot.subplot(133)\n",
				"pyplot.imshow( np.round(np.expand_dims(mask,axis=-1) * img[::dn,::dn]).astype('uint8'), cmap='jet' )\n",
				"pyplot.title('Highlighted Forged Regions')\n",
				"pyplot.suptitle('Decoded {} of size {} for {:.2f} seconds'.format( url, rgb.shape, ptime ) )\n",
				"pyplot.show()"
			],
			"execution_count": null,
			"outputs": []
		},
		{
			"cell_type": "code",
			"metadata": {
				"id": "xTNaokxPftDP"
			},
			"source": [
				"# show results\n",
				"pyplot.figure( figsize=(15,5) )\n",
				"pyplot.title('Original Image')\n",
				"pyplot.subplot(131)\n",
				"pyplot.imshow( img )\n",
				"pyplot.title('Forged Image (ManTra-Net Input)')\n",
				"pyplot.subplot(132)\n",
				"pyplot.imshow( mask, cmap='hot' )\n",
				"pyplot.title('Predicted Mask (ManTra-Net Output)')\n",
				"pyplot.subplot(133)\n",
				"pyplot.imshow( img )\n",
				"pyplot.imshow( mask, cmap='hot', alpha=0.5 )\n",
				"pyplot.title('Highlighted Forged Regions')\n",
				"pyplot.show()"
			],
			"execution_count": null,
			"outputs": []
		},
		{
			"cell_type": "code",
			"metadata": {
				"id": "PhrqY9iMeyko"
			},
			"source": [
				"img = cv2.cvtColor(cv2.imread('61j5jxk4mVL..jpg'), cv2.COLOR_BGR2RGB)\n",
				"dn = 1\n",
				"if img.shape[-1] > 3 :\n",
				"    img = img[...,:3]\n",
				"xrange = [100, 650]\n",
				"yrange = [200, 600]\n",
				"if xrange is not None :\n",
				"    img = img[:,xrange[0]:xrange[1]]\n",
				"if yrange is not None :\n",
				"    img = img[yrange[0]:yrange[1]]\n",
				"ori = np.array(img)\n",
				"mask, ptime =  decode_an_image_array( img, manTraNet, dn )\n",
				"ptime = ptime.total_seconds()\n",
				"# show results\n",
				"pyplot.figure( figsize=(15,5) )\n",
				"pyplot.title('Original Image')\n",
				"pyplot.subplot(131)\n",
				"pyplot.imshow( img )\n",
				"pyplot.title('Forged Image (ManTra-Net Input)')\n",
				"pyplot.subplot(132)\n",
				"pyplot.imshow( mask, cmap='gray' )\n",
				"pyplot.title('Predicted Mask (ManTra-Net Output)')\n",
				"pyplot.subplot(133)\n",
				"pyplot.imshow( np.round(np.expand_dims(mask,axis=-1) * img[::dn,::dn]).astype('uint8'), cmap='jet' )\n",
				"pyplot.title('Highlighted Forged Regions')\n",
				"pyplot.suptitle('Decoded {} of size {} for {:.2f} seconds'.format( url, rgb.shape, ptime ) )\n",
				"pyplot.show()"
			],
			"execution_count": null,
			"outputs": []
		},
		{
			"cell_type": "code",
			"metadata": {
				"id": "dBMe58uAtuak"
			},
			"source": [
				"get_image_from_url('https://www.siliconbeachtraining.co.uk/img/image_1507964385_7e98ab1037f68477c6135f6f8eea280d.jpeg')"
			],
			"execution_count": null,
			"outputs": []
		},
		{
			"cell_type": "code",
			"metadata": {
				"id": "L8me-b8gz8CH"
			},
			"source": [
				"get_image_from_url('https://i.kinja-img.com/gawker-media/image/upload/s--SKrtz7en--/c_scale,f_auto,fl_progressive,q_80,w_800/wumjq8ed0k1hfv0smwma.jpg')"
			],
			"execution_count": null,
			"outputs": []
		}
	]
}
